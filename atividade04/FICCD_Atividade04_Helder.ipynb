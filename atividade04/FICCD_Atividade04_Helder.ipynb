{
  "cells": [
    {
      "cell_type": "markdown",
      "metadata": {
        "id": "7FwarpYGQJ2x"
      },
      "source": [
        "# Identificação\n",
        "\n",
        "- Discente: Helder Mateus dos Reis Matos\n",
        "- Matrícula: 202520080003\n",
        "- Disciplina: Fundamentos de Inteligência Computacional e Ciência de Dados\n",
        "- Docente: Claudomiro de Souza de Sales Junior\n",
        "- Tarefa: Atividade 04 - Programas em Python for p-value, confidence intervals e correlation\n",
        "\n",
        "- Link para o Colab (modo leitura): "
      ]
    },
    {
      "cell_type": "markdown",
      "metadata": {
        "id": "dAbkUgWvNQZc"
      },
      "source": [
        "# 0. Configurações"
      ]
    },
    {
      "cell_type": "code",
      "execution_count": null,
      "metadata": {
        "id": "OpQujELkNUY1"
      },
      "outputs": [],
      "source": [
        "import itertools\n",
        "import time\n",
        "import math\n",
        "\n",
        "import numpy as np\n",
        "import pandas as pd\n",
        "import matplotlib.pyplot as plt\n",
        "import seaborn as sns\n",
        "import plotly.graph_objects as go\n",
        "\n",
        "from scipy.stats import linregress\n",
        "\n",
        "sns.set_style(\"whitegrid\")"
      ]
    },
    {
      "cell_type": "markdown",
      "metadata": {
        "id": "WqNygRDIW3id"
      },
      "source": [
        "# 1. Correlação"
      ]
    },
    {
      "cell_type": "markdown",
      "metadata": {
        "id": "Su2vyfDXW5et"
      },
      "source": [
        "_Faça plotes similares as duas figuras mostradas nos dois próximos slides._\n",
        "\n",
        "_Cada uma deve ter 9 pontos. A segunda deve ter seus dados gerados aleatoriamente com uma distribuição uniforme no mesmo intervalo da primeira._\n",
        "\n",
        "_Use a função linregress para achar um reta que represente os dados e também para calcular o p-value. Interprete os resultados. Pesquise sobre a função linregress._\n",
        "\n",
        "_Calcule a covariância e interprete os resultados._"
      ]
    },
    {
      "cell_type": "markdown",
      "metadata": {},
      "source": [
        "<div style=\"display: flex; justify-content: center; gap: 10px;\">\n",
        "    <img src=\"https://github.com/hellsdeur/ficcd-ppgcc-2025/blob/main/atividade04/imagens/1a.png?raw=true\" alt=\"Figura 1A\" width=\"400px\">\n",
        "    <img src=\"https://github.com/hellsdeur/ficcd-ppgcc-2025/blob/main/atividade04/imagens/1b.png?raw=true\" alt=\"Figura 1B\" width=\"400px\">\n",
        "</div>"
      ]
    },
    {
      "cell_type": "code",
      "execution_count": null,
      "metadata": {},
      "outputs": [],
      "source": []
    },
    {
      "cell_type": "markdown",
      "metadata": {},
      "source": [
        "# 2. Estimando um Intervalo de Confiança para a Média"
      ]
    },
    {
      "cell_type": "markdown",
      "metadata": {},
      "source": [
        "_Obtenha um conjunto de dados amostrais (por exemplo, pesos de indivíduos, notas de testes, etc.)._\n",
        "\n",
        "_Calcule o intervalo de confiança de 95% para a média da população seguindo os passos:_\n",
        "\n",
        "- _Calcular a média e o desvio padrão da amostra._\n",
        "- _Usar a fórmula para intervalo de confiança ou a biblioteca `scipy.stats`._\n",
        "\n",
        "_Desafio: Repetir o processo para diferentes níveis de confiança (por exemplo, 90%, 99%) e comparar os resultados._\n",
        "\n",
        "_Visualizar os intervalos de confiança em um gráfico usando matplotlib para mostrar a variabilidade._"
      ]
    },
    {
      "cell_type": "code",
      "execution_count": null,
      "metadata": {},
      "outputs": [],
      "source": []
    },
    {
      "cell_type": "markdown",
      "metadata": {},
      "source": [
        "# 3. P-value em um Teste de Hipótese"
      ]
    },
    {
      "cell_type": "markdown",
      "metadata": {},
      "source": [
        "_Forneça dois conjuntos de dados: um para um grupo de controle e outro para um grupo de teste._\n",
        "\n",
        "- _Formule a hipótese nula._\n",
        "- _Realizar um teste t de duas amostras usando `scipy.stats.ttest_ind`._\n",
        "\n",
        "_Interpretar o p-value resultante e decidir se rejeitam a hipótese nula em um  nível de significância dado (por exemplo, 0,05)._"
      ]
    },
    {
      "cell_type": "code",
      "execution_count": null,
      "metadata": {},
      "outputs": [],
      "source": []
    },
    {
      "cell_type": "markdown",
      "metadata": {},
      "source": [
        "# 4. Significance level"
      ]
    },
    {
      "cell_type": "markdown",
      "metadata": {},
      "source": [
        "_Faça slides explicando o código abaixo e interpretando os resultados_\n",
        "\n",
        "https://colab.research.google.com/drive/13V7IT7XbnNVf4VVehObHO6NZUxaqdl_f?usp=sharing\n",
        "\n",
        "_Teste com dois valores para significance_level_\n",
        "\n",
        "_Pelo menos quatro slides com a explicação e interpretação._"
      ]
    },
    {
      "cell_type": "code",
      "execution_count": null,
      "metadata": {},
      "outputs": [],
      "source": []
    },
    {
      "cell_type": "markdown",
      "metadata": {},
      "source": [
        "# 5. Reproduzindo slides em código"
      ]
    },
    {
      "cell_type": "markdown",
      "metadata": {},
      "source": [
        "Reproduza em Python o conteúdo dos [slides de 24 a 46](https://docs.google.com/presentation/d/1gMKonLnK3buDUGGJGt1AAS-Ki3jT93LZ/edit?usp=sharing&ouid=115043904090702383039&rtpof=true&sd=true)."
      ]
    },
    {
      "cell_type": "code",
      "execution_count": null,
      "metadata": {},
      "outputs": [],
      "source": []
    }
  ],
  "metadata": {
    "colab": {
      "provenance": []
    },
    "kernelspec": {
      "display_name": ".venv",
      "language": "python",
      "name": "python3"
    },
    "language_info": {
      "codemirror_mode": {
        "name": "ipython",
        "version": 3
      },
      "file_extension": ".py",
      "mimetype": "text/x-python",
      "name": "python",
      "nbconvert_exporter": "python",
      "pygments_lexer": "ipython3",
      "version": "3.12.7"
    }
  },
  "nbformat": 4,
  "nbformat_minor": 0
}
