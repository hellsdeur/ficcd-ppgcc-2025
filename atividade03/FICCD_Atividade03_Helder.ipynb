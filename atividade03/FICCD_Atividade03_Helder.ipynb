{
  "cells": [
    {
      "cell_type": "markdown",
      "metadata": {
        "id": "7FwarpYGQJ2x"
      },
      "source": [
        "# Identificação\n",
        "\n",
        "- Discente: Helder Mateus dos Reis Matos\n",
        "- Matrícula: 202520080003\n",
        "- Disciplina: Fundamentos de Inteligência Computacional e Ciência de Dados\n",
        "- Docente: Claudomiro de Souza de Sales Junior\n",
        "- Tarefa: Atividade 03 - Sample distribution and sampling distribution, TLC and p-value\n",
        "\n",
        "- Link para o Colab (modo leitura): "
      ]
    },
    {
      "cell_type": "markdown",
      "metadata": {
        "id": "dAbkUgWvNQZc"
      },
      "source": [
        "# 0. Configurações"
      ]
    },
    {
      "cell_type": "code",
      "execution_count": null,
      "metadata": {
        "colab": {
          "base_uri": "https://localhost:8080/"
        },
        "id": "Z8nEfHfj4PkO",
        "outputId": "f0956824-3831-4da8-c16b-6427fee239d9"
      },
      "outputs": [
        {
          "name": "stdout",
          "output_type": "stream",
          "text": [
            "--2025-05-02 02:08:31--  https://raw.githubusercontent.com/hellsdeur/ficcd-ppgcc-2025/refs/heads/main/atividade02/pso.py\n",
            "Loaded CA certificate '/etc/ssl/certs/ca-certificates.crt'\n",
            "Resolving raw.githubusercontent.com (raw.githubusercontent.com)... 2606:50c0:8003::154, 2606:50c0:8000::154, 2606:50c0:8001::154, ...\n",
            "Connecting to raw.githubusercontent.com (raw.githubusercontent.com)|2606:50c0:8003::154|:443... failed: Network is unreachable.\n",
            "Connecting to raw.githubusercontent.com (raw.githubusercontent.com)|2606:50c0:8000::154|:443... failed: Network is unreachable.\n",
            "Connecting to raw.githubusercontent.com (raw.githubusercontent.com)|2606:50c0:8001::154|:443... failed: Network is unreachable.\n",
            "Connecting to raw.githubusercontent.com (raw.githubusercontent.com)|2606:50c0:8002::154|:443... failed: Network is unreachable.\n",
            "Connecting to raw.githubusercontent.com (raw.githubusercontent.com)|185.199.108.133|:443... connected.\n",
            "HTTP request sent, awaiting response... 200 OK\n",
            "Length: 4961 (4,8K) [text/plain]\n",
            "Saving to: ‘pso.py’\n",
            "\n",
            "pso.py              100%[===================>]   4,84K  --.-KB/s    in 0,002s  \n",
            "\n",
            "2025-05-02 02:08:31 (2,34 MB/s) - ‘pso.py’ saved [4961/4961]\n",
            "\n"
          ]
        }
      ],
      "source": [
        "!wget -O pso.py https://raw.githubusercontent.com/hellsdeur/ficcd-ppgcc-2025/refs/heads/main/atividade02/pso.py"
      ]
    },
    {
      "cell_type": "code",
      "execution_count": 2,
      "metadata": {
        "id": "OpQujELkNUY1"
      },
      "outputs": [],
      "source": [
        "import itertools\n",
        "import time\n",
        "\n",
        "import numpy as np\n",
        "import pandas as pd\n",
        "import matplotlib.pyplot as plt\n",
        "import seaborn as sns\n",
        "import plotly.graph_objects as go\n",
        "\n",
        "from scipy.stats import norm\n",
        "import scipy.stats as stats\n",
        "\n",
        "from pso import Particle, Swarm, ackley, particle_swarm_optimization"
      ]
    },
    {
      "cell_type": "markdown",
      "metadata": {
        "id": "WqNygRDIW3id"
      },
      "source": [
        "# 1. Sample distribution and sampling distribution"
      ]
    },
    {
      "cell_type": "markdown",
      "metadata": {
        "id": "Su2vyfDXW5et"
      },
      "source": [
        "*A partir do que foi feito na Atividade 2 “Considerando o primeiro trabalho, defina um experimento em que dados são coletados de uma variável de interesse do seu trabalho”, crie uma população artificial dessa variável com uma distribuição Gaussiana e demonstre sample distribution and sampling distribution. Faça avaliações de probabilidade de possíveis eventos.*"
      ]
    },
    {
      "cell_type": "code",
      "execution_count": null,
      "metadata": {},
      "outputs": [],
      "source": []
    },
    {
      "cell_type": "markdown",
      "metadata": {},
      "source": [
        "# 2. TLC"
      ]
    },
    {
      "cell_type": "markdown",
      "metadata": {},
      "source": [
        "_Aplique o TLC a função de distribuição gama e avalie quatro diferentes tamanhos de amostra, começando em 10._"
      ]
    },
    {
      "cell_type": "code",
      "execution_count": null,
      "metadata": {},
      "outputs": [],
      "source": []
    },
    {
      "cell_type": "markdown",
      "metadata": {},
      "source": [
        "# 3. p-value"
      ]
    },
    {
      "cell_type": "markdown",
      "metadata": {},
      "source": [
        "_Faça um programa que mostra o passo a passo para calcular o p-value do evento abaixo. Coloque figuras para cada passo._\n",
        "\n",
        "<p align=\"center\">\n",
        "  <img src=\"https://raw.githubusercontent.com/hellsdeur/ficcd-ppgcc-2025/refs/heads/main/atividade03/imagens/c.png\" alt=\"Imagem da Atividade 03\" width=\"600\">\n",
        "</p>"
      ]
    },
    {
      "cell_type": "code",
      "execution_count": null,
      "metadata": {},
      "outputs": [],
      "source": []
    },
    {
      "cell_type": "markdown",
      "metadata": {},
      "source": [
        "# 4. p-value"
      ]
    },
    {
      "cell_type": "markdown",
      "metadata": {},
      "source": [
        "_Crie  duas  Gaussianas  como  mostrado  abaixo  (é  só  variar  a média). Sortei 100 sequências de três valores na azul e para cada sequência calcule o p-value a partir da vermelha. Veja a seta vermelha que indica a partir de qual amostra é calculado p-value. Calcule a taxa de falso negativos (p-value acima de 5%)._\n",
        "\n",
        "<p align=\"center\">\n",
        "  <img src=\"https://raw.githubusercontent.com/hellsdeur/ficcd-ppgcc-2025/refs/heads/main/atividade03/imagens/d.png\" alt=\"Imagem da Atividade 03\" width=\"600\">\n",
        "</p>\n",
        "\n",
        "Interpretação estatística:\n",
        "\n",
        "- Hipótese nula ($H_{0}$): os dados vêm da distribuição vermelha.\n",
        "- Hipótese alternativa ($H_{1}$): os dados vêm de outra distribuição --- no caso, a azul.\n",
        "- Como os dados realmente vêm da azul, a hipótese nula é falsa.\n",
        "Quando o $p-valor > 0.05$, não rejeitamos a hipótese nula.\n",
        "- Portanto, estamos comentendo um falso negativo (erro tipo II): a hipótese nula é falsa, mas não a rejeitamos."
      ]
    },
    {
      "cell_type": "code",
      "execution_count": null,
      "metadata": {},
      "outputs": [],
      "source": []
    }
  ],
  "metadata": {
    "colab": {
      "provenance": []
    },
    "kernelspec": {
      "display_name": ".venv",
      "language": "python",
      "name": "python3"
    },
    "language_info": {
      "codemirror_mode": {
        "name": "ipython",
        "version": 3
      },
      "file_extension": ".py",
      "mimetype": "text/x-python",
      "name": "python",
      "nbconvert_exporter": "python",
      "pygments_lexer": "ipython3",
      "version": "3.12.7"
    }
  },
  "nbformat": 4,
  "nbformat_minor": 0
}
