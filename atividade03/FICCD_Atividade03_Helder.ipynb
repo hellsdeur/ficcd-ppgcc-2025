{
  "cells": [
    {
      "cell_type": "markdown",
      "metadata": {
        "id": "7FwarpYGQJ2x"
      },
      "source": [
        "# Identificação\n",
        "\n",
        "- Discente: Helder Mateus dos Reis Matos\n",
        "- Matrícula: 202520080003\n",
        "- Disciplina: Fundamentos de Inteligência Computacional e Ciência de Dados\n",
        "- Docente: Claudomiro de Souza de Sales Junior\n",
        "- Tarefa: Atividade 03 - Sample distribution and sampling distribution, TLC and p-value\n",
        "\n",
        "- Link para o Colab (modo leitura): "
      ]
    },
    {
      "cell_type": "markdown",
      "metadata": {
        "id": "dAbkUgWvNQZc"
      },
      "source": [
        "# 0. Configurações"
      ]
    },
    {
      "cell_type": "code",
      "execution_count": null,
      "metadata": {
        "colab": {
          "base_uri": "https://localhost:8080/"
        },
        "id": "Z8nEfHfj4PkO",
        "outputId": "f0956824-3831-4da8-c16b-6427fee239d9"
      },
      "outputs": [
        {
          "name": "stdout",
          "output_type": "stream",
          "text": [
            "--2025-05-02 02:08:31--  https://raw.githubusercontent.com/hellsdeur/ficcd-ppgcc-2025/refs/heads/main/atividade02/pso.py\n",
            "Loaded CA certificate '/etc/ssl/certs/ca-certificates.crt'\n",
            "Resolving raw.githubusercontent.com (raw.githubusercontent.com)... 2606:50c0:8003::154, 2606:50c0:8000::154, 2606:50c0:8001::154, ...\n",
            "Connecting to raw.githubusercontent.com (raw.githubusercontent.com)|2606:50c0:8003::154|:443... failed: Network is unreachable.\n",
            "Connecting to raw.githubusercontent.com (raw.githubusercontent.com)|2606:50c0:8000::154|:443... failed: Network is unreachable.\n",
            "Connecting to raw.githubusercontent.com (raw.githubusercontent.com)|2606:50c0:8001::154|:443... failed: Network is unreachable.\n",
            "Connecting to raw.githubusercontent.com (raw.githubusercontent.com)|2606:50c0:8002::154|:443... failed: Network is unreachable.\n",
            "Connecting to raw.githubusercontent.com (raw.githubusercontent.com)|185.199.108.133|:443... connected.\n",
            "HTTP request sent, awaiting response... 200 OK\n",
            "Length: 4961 (4,8K) [text/plain]\n",
            "Saving to: ‘pso.py’\n",
            "\n",
            "pso.py              100%[===================>]   4,84K  --.-KB/s    in 0,002s  \n",
            "\n",
            "2025-05-02 02:08:31 (2,34 MB/s) - ‘pso.py’ saved [4961/4961]\n",
            "\n"
          ]
        }
      ],
      "source": [
        "!wget -O pso.py https://raw.githubusercontent.com/hellsdeur/ficcd-ppgcc-2025/refs/heads/main/atividade02/pso.py"
      ]
    },
    {
      "cell_type": "code",
      "execution_count": 1,
      "metadata": {
        "id": "OpQujELkNUY1"
      },
      "outputs": [],
      "source": [
        "import itertools\n",
        "import time\n",
        "\n",
        "import numpy as np\n",
        "import pandas as pd\n",
        "import matplotlib.pyplot as plt\n",
        "import seaborn as sns\n",
        "import plotly.graph_objects as go\n",
        "\n",
        "from scipy.stats import norm\n",
        "import scipy.stats as stats\n",
        "\n",
        "from pso import Particle, Swarm, ackley, particle_swarm_optimization"
      ]
    },
    {
      "cell_type": "markdown",
      "metadata": {
        "id": "WqNygRDIW3id"
      },
      "source": [
        "# 1. Sample distribution and sampling distribution"
      ]
    },
    {
      "cell_type": "markdown",
      "metadata": {
        "id": "Su2vyfDXW5et"
      },
      "source": [
        "*A partir do que foi feito na Atividade 2 “Considerando o primeiro trabalho, defina um experimento em que dados são coletados de uma variável de interesse do seu trabalho”, crie uma população artificial dessa variável com uma distribuição Gaussiana e demonstre sample distribution and sampling distribution. Faça avaliações de probabilidade de possíveis eventos.*"
      ]
    },
    {
      "cell_type": "markdown",
      "metadata": {},
      "source": [
        "Nesta atividade, a variável de interesse é o melhor valor de fitness _z_ obtido pelo algoritmo Particle Swarm Optimization (PSO) em execuções sobre a função Ackley bidimensional. Essa variável representa a qualidade da solução encontrada em cada experimento de otimização, sendo diretamente afetada pelo desempenho do algoritmo. Para fins didáticos, será gerada uma população artificial com distribuição Gaussiana baseada nessa variável, de modo a possibilitar a demonstração dos conceitos de sample distribution e sampling distribution, bem como a avaliação de probabilidades associadas a eventos estatísticos relevantes."
      ]
    },
    {
      "cell_type": "code",
      "execution_count": 4,
      "metadata": {},
      "outputs": [
        {
          "data": {
            "text/html": [
              "<div>\n",
              "<style scoped>\n",
              "    .dataframe tbody tr th:only-of-type {\n",
              "        vertical-align: middle;\n",
              "    }\n",
              "\n",
              "    .dataframe tbody tr th {\n",
              "        vertical-align: top;\n",
              "    }\n",
              "\n",
              "    .dataframe thead th {\n",
              "        text-align: right;\n",
              "    }\n",
              "</style>\n",
              "<table border=\"1\" class=\"dataframe\">\n",
              "  <thead>\n",
              "    <tr style=\"text-align: right;\">\n",
              "      <th></th>\n",
              "      <th>x</th>\n",
              "      <th>y</th>\n",
              "      <th>z</th>\n",
              "      <th>etime</th>\n",
              "      <th>convergence</th>\n",
              "    </tr>\n",
              "  </thead>\n",
              "  <tbody>\n",
              "    <tr>\n",
              "      <th>0</th>\n",
              "      <td>-0.000019</td>\n",
              "      <td>-0.000020</td>\n",
              "      <td>0.000078</td>\n",
              "      <td>0.023905</td>\n",
              "      <td>Yes</td>\n",
              "    </tr>\n",
              "    <tr>\n",
              "      <th>1</th>\n",
              "      <td>0.000029</td>\n",
              "      <td>0.000292</td>\n",
              "      <td>0.000831</td>\n",
              "      <td>0.022304</td>\n",
              "      <td>Yes</td>\n",
              "    </tr>\n",
              "    <tr>\n",
              "      <th>2</th>\n",
              "      <td>-0.000386</td>\n",
              "      <td>0.001321</td>\n",
              "      <td>0.003943</td>\n",
              "      <td>0.024399</td>\n",
              "      <td>No</td>\n",
              "    </tr>\n",
              "    <tr>\n",
              "      <th>3</th>\n",
              "      <td>0.000055</td>\n",
              "      <td>0.000237</td>\n",
              "      <td>0.000690</td>\n",
              "      <td>0.022265</td>\n",
              "      <td>Yes</td>\n",
              "    </tr>\n",
              "    <tr>\n",
              "      <th>4</th>\n",
              "      <td>0.001153</td>\n",
              "      <td>-0.002270</td>\n",
              "      <td>0.007373</td>\n",
              "      <td>0.024301</td>\n",
              "      <td>No</td>\n",
              "    </tr>\n",
              "    <tr>\n",
              "      <th>...</th>\n",
              "      <td>...</td>\n",
              "      <td>...</td>\n",
              "      <td>...</td>\n",
              "      <td>...</td>\n",
              "      <td>...</td>\n",
              "    </tr>\n",
              "    <tr>\n",
              "      <th>995</th>\n",
              "      <td>-0.000321</td>\n",
              "      <td>-0.000089</td>\n",
              "      <td>0.000946</td>\n",
              "      <td>0.015116</td>\n",
              "      <td>Yes</td>\n",
              "    </tr>\n",
              "    <tr>\n",
              "      <th>996</th>\n",
              "      <td>0.000300</td>\n",
              "      <td>0.000183</td>\n",
              "      <td>0.000999</td>\n",
              "      <td>0.009347</td>\n",
              "      <td>Yes</td>\n",
              "    </tr>\n",
              "    <tr>\n",
              "      <th>997</th>\n",
              "      <td>0.000197</td>\n",
              "      <td>0.000224</td>\n",
              "      <td>0.000846</td>\n",
              "      <td>0.012253</td>\n",
              "      <td>Yes</td>\n",
              "    </tr>\n",
              "    <tr>\n",
              "      <th>998</th>\n",
              "      <td>-0.000254</td>\n",
              "      <td>0.000167</td>\n",
              "      <td>0.000862</td>\n",
              "      <td>0.014097</td>\n",
              "      <td>Yes</td>\n",
              "    </tr>\n",
              "    <tr>\n",
              "      <th>999</th>\n",
              "      <td>-0.000028</td>\n",
              "      <td>0.000199</td>\n",
              "      <td>0.000569</td>\n",
              "      <td>0.014251</td>\n",
              "      <td>Yes</td>\n",
              "    </tr>\n",
              "  </tbody>\n",
              "</table>\n",
              "<p>1000 rows × 5 columns</p>\n",
              "</div>"
            ],
            "text/plain": [
              "            x         y         z     etime convergence\n",
              "0   -0.000019 -0.000020  0.000078  0.023905         Yes\n",
              "1    0.000029  0.000292  0.000831  0.022304         Yes\n",
              "2   -0.000386  0.001321  0.003943  0.024399          No\n",
              "3    0.000055  0.000237  0.000690  0.022265         Yes\n",
              "4    0.001153 -0.002270  0.007373  0.024301          No\n",
              "..        ...       ...       ...       ...         ...\n",
              "995 -0.000321 -0.000089  0.000946  0.015116         Yes\n",
              "996  0.000300  0.000183  0.000999  0.009347         Yes\n",
              "997  0.000197  0.000224  0.000846  0.012253         Yes\n",
              "998 -0.000254  0.000167  0.000862  0.014097         Yes\n",
              "999 -0.000028  0.000199  0.000569  0.014251         Yes\n",
              "\n",
              "[1000 rows x 5 columns]"
            ]
          },
          "execution_count": 4,
          "metadata": {},
          "output_type": "execute_result"
        }
      ],
      "source": [
        "n = 1000\n",
        "\n",
        "runs = []\n",
        "etime = []\n",
        "\n",
        "for _ in range(n):\n",
        "    start_time = time.time()\n",
        "\n",
        "    run = particle_swarm_optimization(\n",
        "        cost_function=ackley,\n",
        "        DIMENSIONS=2, GLOBAL_BEST=0,\n",
        "        B_LO=-10, B_HI=10,\n",
        "        POPULATION=20, V_MAX=0.1,\n",
        "        PERSONAL_C=2.0, SOCIAL_C=2.0,\n",
        "        CONVERGENCE=0.001, MAX_ITER=100\n",
        "    )\n",
        "\n",
        "    end_time = time.time()\n",
        "\n",
        "    runs.append(run)\n",
        "    etime.append(end_time - start_time)\n",
        "\n",
        "data_pso = {\n",
        "    \"x\": [r[0][0] for r in runs],\n",
        "    \"y\": [r[0][1] for r in runs],\n",
        "    \"z\": [r[1] for r in runs],\n",
        "    \"etime\": etime,\n",
        "    \"convergence\": [\"Yes\" if r[2] < 100 else \"No\" for r in runs],\n",
        "}\n",
        "\n",
        "df_pso = pd.DataFrame(data_pso)\n",
        "df_pso"
      ]
    },
    {
      "cell_type": "markdown",
      "metadata": {},
      "source": [
        "## 1.1. Sample distribution"
      ]
    },
    {
      "cell_type": "code",
      "execution_count": 5,
      "metadata": {},
      "outputs": [
        {
          "name": "stdout",
          "output_type": "stream",
          "text": [
            "Sample mean: 0.0201\n",
            "Sample std: 0.0049\n"
          ]
        }
      ],
      "source": [
        "sample = df_pso[\"etime\"].sample(10)\n",
        "sample_mean = sample.mean()\n",
        "sample_std = sample.std()\n",
        "\n",
        "print(f\"Sample mean: {sample_mean:.4f}\")\n",
        "print(f\"Sample std: {sample_std:.4f}\")"
      ]
    },
    {
      "cell_type": "code",
      "execution_count": 6,
      "metadata": {},
      "outputs": [
        {
          "name": "stdout",
          "output_type": "stream",
          "text": [
            "Sample mean: 0.0176\n",
            "Sample std: 0.0046\n"
          ]
        }
      ],
      "source": [
        "sample = df_pso[\"etime\"].sample(10)\n",
        "sample_mean = sample.mean()\n",
        "sample_std = sample.std()\n",
        "\n",
        "print(f\"Sample mean: {sample_mean:.4f}\")\n",
        "print(f\"Sample std: {sample_std:.4f}\")"
      ]
    },
    {
      "cell_type": "code",
      "execution_count": 7,
      "metadata": {},
      "outputs": [
        {
          "name": "stdout",
          "output_type": "stream",
          "text": [
            "Sample mean: 0.0173\n",
            "Sample std: 0.0075\n"
          ]
        }
      ],
      "source": [
        "sample = df_pso[\"etime\"].sample(10)\n",
        "sample_mean = sample.mean()\n",
        "sample_std = sample.std()\n",
        "\n",
        "print(f\"Sample mean: {sample_mean:.4f}\")\n",
        "print(f\"Sample std: {sample_std:.4f}\")"
      ]
    },
    {
      "cell_type": "markdown",
      "metadata": {},
      "source": [
        "## 1.2. Sampling distribution"
      ]
    },
    {
      "cell_type": "code",
      "execution_count": 8,
      "metadata": {},
      "outputs": [],
      "source": [
        "sampling = [df_pso[\"etime\"].sample(10).mean() for _ in range(100)]"
      ]
    },
    {
      "cell_type": "code",
      "execution_count": 31,
      "metadata": {},
      "outputs": [
        {
          "name": "stderr",
          "output_type": "stream",
          "text": [
            "/tmp/ipykernel_69588/3685332490.py:20: UserWarning: FigureCanvasAgg is non-interactive, and thus cannot be shown\n",
            "  fig.show()\n"
          ]
        },
        {
          "data": {
            "image/png": "[encoded data removed]",
            "text/plain": [
              "<Figure size 800x400 with 1 Axes>"
            ]
          },
          "metadata": {},
          "output_type": "display_data"
        }
      ],
      "source": [
        "def histogram_experiment(s):\n",
        "    fig, axs = plt.subplots(figsize=(8, 4))\n",
        "\n",
        "    axs.hist(s, bins=10, density=True, alpha=0.6, color='g', label=\"Histograma\")\n",
        "\n",
        "    mu, sigma = norm.fit(s)\n",
        "    x = np.linspace(min(s), max(s), 30)\n",
        "    pdf = norm.pdf(x, mu, sigma)\n",
        "\n",
        "    axs.plot(x, pdf, 'r-', label=f\"Fit: μ={mu:.4f}, σ={sigma:.4f}\")\n",
        "\n",
        "    axs.grid(axis='y', linestyle='--', alpha=0.7)\n",
        "\n",
        "    axs.set_title(f\"Distribuição das médias de amostras de etime\")\n",
        "\n",
        "    axs.legend(loc='upper right', fontsize=10)\n",
        "\n",
        "    fig.tight_layout()\n",
        "\n",
        "    fig.show()\n",
        "\n",
        "histogram_experiment(sampling)"
      ]
    },
    {
      "cell_type": "markdown",
      "metadata": {},
      "source": [
        "# 2. TLC"
      ]
    },
    {
      "cell_type": "markdown",
      "metadata": {},
      "source": [
        "_Aplique o TLC a função de distribuição gama e avalie quatro diferentes tamanhos de amostra, começando em 10._"
      ]
    },
    {
      "cell_type": "code",
      "execution_count": null,
      "metadata": {},
      "outputs": [],
      "source": []
    },
    {
      "cell_type": "markdown",
      "metadata": {},
      "source": [
        "# 3. p-value"
      ]
    },
    {
      "cell_type": "markdown",
      "metadata": {},
      "source": [
        "_Faça um programa que mostra o passo a passo para calcular o p-value do evento abaixo. Coloque figuras para cada passo._\n",
        "\n",
        "<p align=\"center\">\n",
        "  <img src=\"https://raw.githubusercontent.com/hellsdeur/ficcd-ppgcc-2025/refs/heads/main/atividade03/imagens/c.png\" alt=\"Imagem da Atividade 03\" width=\"600\">\n",
        "</p>"
      ]
    },
    {
      "cell_type": "code",
      "execution_count": null,
      "metadata": {},
      "outputs": [],
      "source": []
    },
    {
      "cell_type": "markdown",
      "metadata": {},
      "source": [
        "# 4. p-value"
      ]
    },
    {
      "cell_type": "markdown",
      "metadata": {},
      "source": [
        "_Crie  duas  Gaussianas  como  mostrado  abaixo  (é  só  variar  a média). Sortei 100 sequências de três valores na azul e para cada sequência calcule o p-value a partir da vermelha. Veja a seta vermelha que indica a partir de qual amostra é calculado p-value. Calcule a taxa de falso negativos (p-value acima de 5%)._\n",
        "\n",
        "<p align=\"center\">\n",
        "  <img src=\"https://raw.githubusercontent.com/hellsdeur/ficcd-ppgcc-2025/refs/heads/main/atividade03/imagens/d.png\" alt=\"Imagem da Atividade 03\" width=\"600\">\n",
        "</p>\n",
        "\n",
        "Interpretação estatística:\n",
        "\n",
        "- Hipótese nula ($H_{0}$): os dados vêm da distribuição vermelha.\n",
        "- Hipótese alternativa ($H_{1}$): os dados vêm de outra distribuição --- no caso, a azul.\n",
        "- Como os dados realmente vêm da azul, a hipótese nula é falsa.\n",
        "Quando o p-valor $> 0.05$, não rejeitamos a hipótese nula.\n",
        "- Portanto, estamos comentendo um falso negativo (erro tipo II): a hipótese nula é falsa, mas não a rejeitamos."
      ]
    },
    {
      "cell_type": "code",
      "execution_count": null,
      "metadata": {},
      "outputs": [],
      "source": []
    }
  ],
  "metadata": {
    "colab": {
      "provenance": []
    },
    "kernelspec": {
      "display_name": ".venv",
      "language": "python",
      "name": "python3"
    },
    "language_info": {
      "codemirror_mode": {
        "name": "ipython",
        "version": 3
      },
      "file_extension": ".py",
      "mimetype": "text/x-python",
      "name": "python",
      "nbconvert_exporter": "python",
      "pygments_lexer": "ipython3",
      "version": "3.12.7"
    }
  },
  "nbformat": 4,
  "nbformat_minor": 0
}
